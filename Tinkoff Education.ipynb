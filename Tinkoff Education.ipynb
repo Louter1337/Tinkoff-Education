{
 "cells": [
  {
   "cell_type": "code",
   "execution_count": 40,
   "metadata": {},
   "outputs": [
    {
     "data": {
      "text/plain": [
       "('Probability =', 0.01562669560499186)"
      ]
     },
     "execution_count": 40,
     "metadata": {},
     "output_type": "execute_result"
    }
   ],
   "source": [
    "from itertools import combinations\n",
    "\n",
    "setn = [i for i in range(1, 98)]\n",
    "comb = list(combinations(setn, 3))\n",
    "n = len(comb)\n",
    "k = 0\n",
    "\n",
    "def arithmetic_prog():\n",
    "    setn = [i for i in range(1, 98)]\n",
    "    comb = list(combinations(setn, 3))\n",
    "    n = len(comb)\n",
    "    k = 0\n",
    "    for i in range(n):\n",
    "        a1, a2, a3 = comb[i][0], comb[i][1], comb[i][2]\n",
    "        if a2 == ((a1 + a3) / 2):\n",
    "            k += 1\n",
    "    return 'Probability =', k / n\n",
    "arithmetic_prog()"
   ]
  }
 ],
 "metadata": {
  "kernelspec": {
   "display_name": "Python 3",
   "language": "python",
   "name": "python3"
  },
  "language_info": {
   "codemirror_mode": {
    "name": "ipython",
    "version": 3
   },
   "file_extension": ".py",
   "mimetype": "text/x-python",
   "name": "python",
   "nbconvert_exporter": "python",
   "pygments_lexer": "ipython3",
   "version": "3.8.5"
  }
 },
 "nbformat": 4,
 "nbformat_minor": 4
}
